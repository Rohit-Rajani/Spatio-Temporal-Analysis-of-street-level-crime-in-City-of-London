{
 "cells": [
  {
   "cell_type": "code",
   "execution_count": 4,
   "id": "490cd24f-aea6-439b-ab3a-7dd8bfadfa09",
   "metadata": {},
   "outputs": [
    {
     "name": "stdout",
     "output_type": "stream",
     "text": [
      "{'combined_map': 'C:\\\\Users\\\\rohit\\\\OneDrive\\\\Desktop\\\\Uni\\\\Dissertation\\\\city_crime_folium_heat_plus_markers.html', 'rows_plotted': 16638}\n"
     ]
    }
   ],
   "source": [
    "import pandas as pd\n",
    "import numpy as np\n",
    "from pathlib import Path\n",
    "import uuid\n",
    "import folium\n",
    "from folium import FeatureGroup, LayerControl\n",
    "from folium.plugins import HeatMap, MarkerCluster, MiniMap, Fullscreen, MeasureControl\n",
    "\n",
    "# Loading and cleaning the dataset\n",
    "cleaned_path = Path(\"C:/Users/rohit/OneDrive/Desktop/Uni/Dissertation/cleaned_dataset/cleaned_city_of_london_crime_for_spatial_analysis.csv\")\n",
    "df_city = pd.read_csv(cleaned_path)\n",
    "\n",
    "# infer column names exactly like before\n",
    "df_city.columns = [c.strip() for c in df_city.columns]\n",
    "lower_map = {c.lower(): c for c in df_city.columns}\n",
    "\n",
    "lon_col = lower_map.get(\"longitude\")\n",
    "lat_col = lower_map.get(\"latitude\")\n",
    "loc_col = lower_map.get(\"location\")\n",
    "month_col = lower_map.get(\"month\")\n",
    "crime_id_col = lower_map.get(\"crime id\") or lower_map.get(\"crime_id\")\n",
    "\n",
    "# (defensive) parse month to ensure correct type if needed\n",
    "if month_col in df_city.columns:\n",
    "    df_city[month_col] = pd.to_datetime(df_city[month_col], errors=\"coerce\")\n",
    "\n",
    "# plotting the maps center point for proper visualisation\n",
    "center_lat = float(df_city[lat_col].median())\n",
    "center_lon = float(df_city[lon_col].median())\n",
    "\n",
    "# building the map\n",
    "m = folium.Map(location=[center_lat, center_lon], zoom_start=15, tiles=\"OpenStreetMap\")\n",
    "\n",
    "# adding controls to the map\n",
    "MiniMap(toggle_display=True).add_to(m)\n",
    "Fullscreen().add_to(m)\n",
    "MeasureControl(primary_length_unit='meters', secondary_length_unit='miles').add_to(m)\n",
    "\n",
    "# creating the heatmap of reported crime incidents\n",
    "fg_heat = FeatureGroup(name=\"Crime Heatmap\", show=True)\n",
    "heat_data = df_city[[lat_col, lon_col]].values.tolist()\n",
    "HeatMap(heat_data, radius=14, blur=10).add_to(fg_heat)\n",
    "fg_heat.add_to(m)\n",
    "\n",
    "# clustering the crime incident\n",
    "fg_markers = FeatureGroup(name=\"Crime Markers (clustered)\", show=True)\n",
    "mc = MarkerCluster().add_to(fg_markers)\n",
    "\n",
    "MAX_MARKERS = len(df_city)\n",
    "pts = df_city.sample(n=min(MAX_MARKERS, len(df_city)), random_state=42) if len(df_city) > MAX_MARKERS else df_city\n",
    "\n",
    "popup_cols = [c for c in [loc_col, month_col, crime_id_col] if c in df_city.columns]\n",
    "for _, row in pts.iterrows():\n",
    "    popup_text = []\n",
    "    if loc_col in popup_cols:\n",
    "        popup_text.append(f\"<b>Location:</b> {row.get(loc_col, '')}\")\n",
    "    if month_col in popup_cols and pd.notna(row.get(month_col)):\n",
    "        popup_text.append(f\"<b>Month:</b> {str(row.get(month_col))[:10]}\")\n",
    "    if crime_id_col in popup_cols:\n",
    "        popup_text.append(f\"<b>Crime ID:</b> {row.get(crime_id_col, '')}\")\n",
    "    if not popup_text:\n",
    "        popup_text.append(f\"({row[lat_col]:.6f}, {row[lon_col]:.6f})\")\n",
    "\n",
    "    folium.Marker(\n",
    "        [row[lat_col], row[lon_col]],\n",
    "        popup=folium.Popup(\"<br>\".join(popup_text), max_width=300)\n",
    "    ).add_to(mc)\n",
    "\n",
    "fg_markers.add_to(m)\n",
    "\n",
    "# Layer control\n",
    "LayerControl(collapsed=False).add_to(m)\n",
    "\n",
    "# Saving the map to .html file\n",
    "out_path = Path(\"C:/Users/rohit/OneDrive/Desktop/Uni/Dissertation/city_crime_folium_heat_plus_markers.html\")\n",
    "m.save(out_path)\n",
    "\n",
    "print({\"combined_map\": str(out_path), \"rows_plotted\": len(df_city)})\n"
   ]
  },
  {
   "cell_type": "code",
   "execution_count": null,
   "id": "5e2dc017-23b2-466d-ab1d-55a4280c76f0",
   "metadata": {},
   "outputs": [],
   "source": []
  },
  {
   "cell_type": "code",
   "execution_count": null,
   "id": "0c808c0e-8514-424c-b3f1-be1dc0a8e37f",
   "metadata": {},
   "outputs": [],
   "source": []
  }
 ],
 "metadata": {
  "kernelspec": {
   "display_name": "Python 3 (ipykernel)",
   "language": "python",
   "name": "python3"
  },
  "language_info": {
   "codemirror_mode": {
    "name": "ipython",
    "version": 3
   },
   "file_extension": ".py",
   "mimetype": "text/x-python",
   "name": "python",
   "nbconvert_exporter": "python",
   "pygments_lexer": "ipython3",
   "version": "3.13.2"
  }
 },
 "nbformat": 4,
 "nbformat_minor": 5
}
