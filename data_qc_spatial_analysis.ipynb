{
 "cells": [
  {
   "cell_type": "code",
   "execution_count": 3,
   "id": "1d4e0d98-75ea-4ad6-a718-71908b68000c",
   "metadata": {},
   "outputs": [
    {
     "name": "stdout",
     "output_type": "stream",
     "text": [
      "Total rows loaded: 19172\n",
      "Total rows after cleaning: 16638\n",
      "Cleaned file saved to: C:\\Users\\rohit\\OneDrive\\Desktop\\Uni\\Dissertation\\cleaned_dataset\\cleaned_city_of_london_crime_for_spatial_analysis.csv\n"
     ]
    }
   ],
   "source": [
    "import pandas as pd\n",
    "import numpy as np\n",
    "from pathlib import Path\n",
    "import uuid\n",
    "\n",
    "#paths of raw file and cleaned data file\n",
    "raw_path = Path(\"C:/Users/rohit/OneDrive/Desktop/Uni/Dissertation/cleaned_dataset/combined_city_of_london_crime.csv\")\n",
    "cleaned_path = Path(\"C:/Users/rohit/OneDrive/Desktop/Uni/Dissertation/cleaned_dataset/cleaned_city_of_london_crime_for_spatial_analysis.csv\")\n",
    "# ----------------------------------------\n",
    "\n",
    "#function to load and clean the data for spatial analysis\n",
    "df = pd.read_csv(raw_path)\n",
    "print(f\"Total rows loaded: {len(df)}\")   # <-- print after loading\n",
    "\n",
    "df.columns = [c.strip() for c in df.columns]\n",
    "lower_map = {c.lower(): c for c in df.columns}\n",
    "\n",
    "lon_col = lower_map.get(\"longitude\")\n",
    "lat_col = lower_map.get(\"latitude\")\n",
    "loc_col = lower_map.get(\"location\")\n",
    "month_col = lower_map.get(\"month\")\n",
    "crime_id_col = lower_map.get(\"crime id\") or lower_map.get(\"crime_id\")\n",
    "\n",
    "if lon_col is None or lat_col is None:\n",
    "    raise ValueError(\"Longitude/Latitude columns not found.\")\n",
    "\n",
    "# data cleanings for longitude and latitude attributes\n",
    "df = df[~df[lon_col].isna() & ~df[lat_col].isna()].copy()\n",
    "if loc_col in df.columns:\n",
    "    df = df[df[loc_col].fillna(\"\").str.strip().str.lower() != \"no location\"]\n",
    "\n",
    "df[lon_col] = pd.to_numeric(df[lon_col], errors=\"coerce\")\n",
    "df[lat_col] = pd.to_numeric(df[lat_col], errors=\"coerce\")\n",
    "df = df.dropna(subset=[lon_col, lat_col])\n",
    "\n",
    "# UUID fix before dedup\n",
    "if crime_id_col in df.columns:\n",
    "    null_mask = df[crime_id_col].isna() | (df[crime_id_col].astype(str).str.strip() == \"\")\n",
    "    if null_mask.any():\n",
    "        df.loc[null_mask, crime_id_col] = [str(uuid.uuid4()) for _ in range(null_mask.sum())]\n",
    "    df = df.drop_duplicates(subset=[crime_id_col], keep=\"first\")\n",
    "\n",
    "# parse month\n",
    "if month_col in df.columns:\n",
    "    df[month_col] = pd.to_datetime(df[month_col], errors=\"coerce\")\n",
    "\n",
    "# quantile trim & city bbox\n",
    "lon_q1, lon_q99 = df[lon_col].quantile([0.01, 0.99])\n",
    "lat_q1, lat_q99 = df[lat_col].quantile([0.01, 0.99])\n",
    "df_trim = df[df[lon_col].between(lon_q1, lon_q99) & df[lat_col].between(lat_q1, lat_q99)].copy()\n",
    "\n",
    "bbox = dict(lat_min=51.507, lat_max=51.525, lon_min=-0.112, lon_max=-0.064)\n",
    "df_city = df_trim[(df_trim[lon_col] >= bbox[\"lon_min\"]) & (df_trim[lon_col] <= bbox[\"lon_max\"]) &\n",
    "                  (df_trim[lat_col] >= bbox[\"lat_min\"]) & (df_trim[lat_col] <= bbox[\"lat_max\"])].copy()\n",
    "\n",
    "if df_city.empty:\n",
    "    df_city = df_trim.copy()\n",
    "\n",
    "print(f\"Total rows after cleaning: {len(df_city)}\")   # <-- print after cleaning\n",
    "\n",
    "# Saving the cleaned dataset\n",
    "cleaned_path.parent.mkdir(parents=True, exist_ok=True)\n",
    "df_city.to_csv(cleaned_path, index=False)\n",
    "print(f\"Cleaned file saved to: {cleaned_path}\")\n"
   ]
  },
  {
   "cell_type": "code",
   "execution_count": null,
   "id": "90eede7f-c03c-4600-b3a0-3b2815e6c3f1",
   "metadata": {},
   "outputs": [],
   "source": []
  }
 ],
 "metadata": {
  "kernelspec": {
   "display_name": "Python 3 (ipykernel)",
   "language": "python",
   "name": "python3"
  },
  "language_info": {
   "codemirror_mode": {
    "name": "ipython",
    "version": 3
   },
   "file_extension": ".py",
   "mimetype": "text/x-python",
   "name": "python",
   "nbconvert_exporter": "python",
   "pygments_lexer": "ipython3",
   "version": "3.13.2"
  }
 },
 "nbformat": 4,
 "nbformat_minor": 5
}
